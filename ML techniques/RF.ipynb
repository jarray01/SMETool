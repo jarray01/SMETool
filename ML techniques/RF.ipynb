{
 "cells": [
  {
   "cell_type": "code",
   "execution_count": null,
   "id": "893c8676",
   "metadata": {},
   "outputs": [],
   "source": [
    "import numpy as np \n",
    "import matplotlib.pyplot as plt \n",
    "import pandas as pd\n",
    "dataset = pd.read_csv('C:/Users/Administrateur/Desktop/iterations/rf it1/terrainrf1.csv',sep=';')\n",
    "x = dataset.iloc[:, 0:3].values\n",
    "y = dataset.iloc[:,3].values\n",
    "# import the regressor \n",
    "from sklearn.ensemble import RandomForestRegressor \n",
    "  \n",
    " # create regressor object \n",
    "regressor = RandomForestRegressor(n_estimators = 100, min_samples_split = 5, max_depth =  30)\n",
    "regressor.fit(x, y) \n",
    "YYYY = regressor.predict(x)\n",
    "dfrf1 = pd.DataFrame({'Real Values':y, 'Predicted Values':YYYY})\n",
    "from sklearn.externals import joblib\n",
    "joblib.dump(regressor, 'modele rf1-FIN')"
   ]
  }
 ],
 "metadata": {
  "kernelspec": {
   "display_name": "Python 3",
   "language": "python",
   "name": "python3"
  },
  "language_info": {
   "codemirror_mode": {
    "name": "ipython",
    "version": 3
   },
   "file_extension": ".py",
   "mimetype": "text/x-python",
   "name": "python",
   "nbconvert_exporter": "python",
   "pygments_lexer": "ipython3",
   "version": "3.8.8"
  }
 },
 "nbformat": 4,
 "nbformat_minor": 5
}
