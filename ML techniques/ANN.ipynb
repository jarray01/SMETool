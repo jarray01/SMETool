{
 "cells": [
  {
   "cell_type": "code",
   "execution_count": null,
   "id": "ac2588f2",
   "metadata": {},
   "outputs": [],
   "source": [
    "import numpy as np\n",
    "from keras.layers import Dense, Activation\n",
    "from keras.models import Sequential\n",
    "from sklearn.model_selection import train_test_split\n",
    "import matplotlib.pyplot as plt\n",
    "import numpy as np\n",
    "import pandas as pd\n",
    "# Importing the dataset\n",
    "dataset = pd.read_csv('K:/données M2/ANN/terrain.csv',sep=',')\n",
    "X = dataset.iloc[:, 2:5].values\n",
    "y = dataset.iloc[:,5].values\n",
    "# Feature Scaling\n",
    "from sklearn.preprocessing import StandardScaler\n",
    "sc = StandardScaler()\n",
    "scy = StandardScaler()\n",
    "#X = sc.fit_transform(X_train)\n",
    "X = sc.fit_transform(X)\n",
    "X_train, X_test, y_train, y_test = train_test_split(X, y, test_size = 0.7, random_state = 0)\n",
    "\n",
    "\n",
    "# Initialising the ANN\n",
    "model = Sequential()\n",
    "\n",
    "# Adding the input layer and the first hidden layer\n",
    "model.add(Dense(32, activation = 'relu', input_dim = 3))\n",
    "\n",
    "# Adding the second hidden layer\n",
    "model.add(Dense(units = 32, activation = 'relu'))\n",
    "model.add(Dense(32, activation = 'relu', input_dim = 3))\n",
    "# Adding the third hidden layer\n",
    "model.add(Dense(units = 32, activation = 'relu'))\n",
    "model.add(Dense(16, activation = 'relu', input_dim = 3))\n",
    "# Adding the third hidden layer\n",
    "model.add(Dense(units = 16, activation = 'relu'))\n",
    "model.add(Dense(1, activation='linear'))\n",
    "# Adding the output layer\n",
    "\n",
    "model.add(Dense(units = 1))\n",
    "\n",
    "#model.add(Dense(1))\n",
    "# Compiling the ANN\n",
    "model.compile(optimizer = 'adam', loss = 'mean_squared_error')\n",
    "\n",
    "# Fitting the ANN to the Training set\n",
    "model.fit(X, y, batch_size = 10, epochs = 100, learning_rate =0.0001)\n",
    "\n",
    "y_pred = model.predict(X)\n",
    "dfANN = pd.DataFrame({'Real Values':y, 'Predicted Values':y_pred})\n",
    "from sklearn.externals import joblib\n",
    "joblib.dump(model, 'modele ANN-FIN')"
   ]
  }
 ],
 "metadata": {
  "kernelspec": {
   "display_name": "Python 3 (ipykernel)",
   "language": "python",
   "name": "python3"
  },
  "language_info": {
   "codemirror_mode": {
    "name": "ipython",
    "version": 3
   },
   "file_extension": ".py",
   "mimetype": "text/x-python",
   "name": "python",
   "nbconvert_exporter": "python",
   "pygments_lexer": "ipython3",
   "version": "3.7.4"
  }
 },
 "nbformat": 4,
 "nbformat_minor": 5
}
