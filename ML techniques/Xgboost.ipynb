{
 "cells": [
  {
   "cell_type": "code",
   "execution_count": null,
   "id": "a9411553",
   "metadata": {},
   "outputs": [],
   "source": [
    "# Necessary imports \n",
    "import numpy as np \n",
    "import pandas as pd \n",
    "import xgboost as xg \n",
    "from sklearn.model_selection import train_test_split \n",
    "from sklearn.metrics import mean_squared_error as MSE \n",
    "# Load the data \n",
    "from xgboost import XGBRegressor\n",
    "import matplotlib.pyplot as plt\n",
    "# Importing the dataset\n",
    "dataset = pd.read_csv('K:/données M2/XGBOOST/terrain.csv',sep=',')\n",
    "\n",
    "X = dataset.iloc[:, 2:5].values\n",
    "y = dataset.iloc[:,5].values\n",
    "# Splitting \n",
    "# split data into train and test sets\n",
    "seed = 7\n",
    "test_size = 0.33\n",
    "X_train, X_test, y_train, y_test = train_test_split(X, y, test_size=test_size, random_state=seed)\n",
    "#train_X, test_X, train_y, test_y = train_test_split(X, y,test_size = 0.3, random_state = 123) \n",
    "  \n",
    "\n",
    "# fit model no training data\n",
    "model = XGBRegressor(learning_rate =0.1, n_estimators=100, max_depth=30)\n",
    "model.fit(X_train, y_train)\n",
    "y_pred = model.predict(X)\n",
    "dfxgboost = pd.DataFrame({'Real Values':y_train, 'Predicted Values':y_pred})\n",
    "from sklearn.externals import joblib\n",
    "joblib.dump(model, 'modele xgb1-FIN')"
   ]
  }
 ],
 "metadata": {
  "kernelspec": {
   "display_name": "Python 3",
   "language": "python",
   "name": "python3"
  },
  "language_info": {
   "codemirror_mode": {
    "name": "ipython",
    "version": 3
   },
   "file_extension": ".py",
   "mimetype": "text/x-python",
   "name": "python",
   "nbconvert_exporter": "python",
   "pygments_lexer": "ipython3",
   "version": "3.8.8"
  }
 },
 "nbformat": 4,
 "nbformat_minor": 5
}
